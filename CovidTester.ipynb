{
 "cells": [
  {
   "cell_type": "code",
   "execution_count": 6,
   "id": "3f6df045-6d38-46f2-a85d-245f7590168f",
   "metadata": {
    "tags": []
   },
   "outputs": [
    {
     "name": "stdout",
     "output_type": "stream",
     "text": [
      "The autoreload extension is already loaded. To reload it, use:\n",
      "  %reload_ext autoreload\n"
     ]
    }
   ],
   "source": [
    "from glob import glob\n",
    "import importlib\n",
    "import sys\n",
    "from pathlib import Path\n",
    "import numpy as np\n",
    "from scipy import stats\n",
    "import matplotlib.pyplot as plt\n",
    "from prettytable import PrettyTable\n",
    "\n",
    "from StudentProtocols import utils\n",
    "\n",
    "# Fixing random state for reproducibility\n",
    "np.random.seed(19680801)\n",
    "\n",
    "%load_ext autoreload\n",
    "%autoreload 2"
   ]
  },
  {
   "cell_type": "code",
   "execution_count": 7,
   "id": "4fa734ce-5e63-42cc-927a-1ccbe83f5f3f",
   "metadata": {
    "tags": []
   },
   "outputs": [],
   "source": [
    "n = 32 # 1 <= n <= 100\n",
    "p = 0.03 # 0 <= p <= 0.15\n",
    "N_trials = 1000"
   ]
  },
  {
   "cell_type": "code",
   "execution_count": 8,
   "metadata": {},
   "outputs": [
    {
     "name": "stdout",
     "output_type": "stream",
     "text": [
      "Requirement already satisfied: prettytable in /Users/apple/miniconda3/lib/python3.12/site-packages (3.11.0)\n",
      "Requirement already satisfied: wcwidth in /Users/apple/miniconda3/lib/python3.12/site-packages (from prettytable) (0.2.13)\n",
      "Note: you may need to restart the kernel to use updated packages.\n"
     ]
    }
   ],
   "source": [
    "%pip install prettytable "
   ]
  },
  {
   "cell_type": "code",
   "execution_count": 9,
   "id": "463c71b6-bbb5-4465-8a27-2de07b6a7513",
   "metadata": {
    "scrolled": true,
    "tags": []
   },
   "outputs": [
    {
     "name": "stdout",
     "output_type": "stream",
     "text": [
      "Testing Baseline...\n",
      "\n",
      "Done!\n",
      "+------------+------+----------+\n",
      "| Group Name | Mean | Variance |\n",
      "+------------+------+----------+\n",
      "|  Baseline  | 32.0 |   0.0    |\n",
      "+------------+------+----------+\n"
     ]
    }
   ],
   "source": [
    "team_modules = list(filter(\n",
    "    lambda tm: all(ignore not in tm for ignore in [\"__init__.py\", \"utils.py\"]), \n",
    "    glob(\"StudentProtocols/*.py\")))\n",
    "\n",
    "team_to_results = {}\n",
    "for tm in team_modules:\n",
    "    team_name = Path(tm).stem\n",
    "    print(f\"Testing {team_name}...\")\n",
    "    try:\n",
    "        proto_module = importlib.import_module(f\"StudentProtocols.{team_name}\")\n",
    "        proto_module = importlib.reload(proto_module)\n",
    "        tester = utils.ProtocolTester(n, p, proto_module.Protocol)\n",
    "        results = tester.run_protocol(N_trials, verbose=False)\n",
    "    except Exception as e:\n",
    "        print(f\"{team_name} failed w/ error:\")\n",
    "        print(e)\n",
    "    print()\n",
    "    team_to_results[team_name] = results\n",
    "print(\"Done!\")\n",
    "team_names = list(team_to_results.keys())\n",
    "\n",
    "table = PrettyTable()\n",
    "table.field_names = [\"Group Name\", \"Mean\", \"Variance\"]\n",
    "for team_name, results in sorted(team_to_results.items(), key=lambda pair: np.mean(pair[1])):\n",
    "    run_info = stats.describe(results)\n",
    "    table.add_row([team_name, np.round(run_info.mean, 3), np.round(run_info.variance, 3)])\n",
    "\n",
    "print(table)"
   ]
  },
  {
   "cell_type": "code",
   "execution_count": 10,
   "id": "dc107c78-3300-4b70-a12f-39049e8af49d",
   "metadata": {},
   "outputs": [
    {
     "data": {
      "image/png": "[encoded data removed]",
      "text/plain": [
       "<Figure size 900x400 with 1 Axes>"
      ]
     },
     "metadata": {},
     "output_type": "display_data"
    }
   ],
   "source": [
    "def set_axis_style(ax, labels):\n",
    "    ax.set_xticks(np.arange(1, len(labels) + 1), labels=labels)\n",
    "    ax.set_xlim(0.25, len(labels) + 0.75)\n",
    "    ax.set_xlabel('Team name')\n",
    "\n",
    "\n",
    "fig, ax = plt.subplots(figsize=(9, 4))\n",
    "ax.violinplot(\n",
    "    [team_to_results[tn] for tn in team_names],\n",
    "    showmeans=True)\n",
    "set_axis_style(ax, team_names)\n",
    "plt.show()\n"
   ]
  },
  {
   "cell_type": "code",
   "execution_count": null,
   "id": "589c8e2b-8767-4607-a518-53b139bf678f",
   "metadata": {},
   "outputs": [],
   "source": []
  }
 ],
 "metadata": {
  "kernelspec": {
   "display_name": "Python 3 (ipykernel)",
   "language": "python",
   "name": "python3"
  },
  "language_info": {
   "codemirror_mode": {
    "name": "ipython",
    "version": 3
   },
   "file_extension": ".py",
   "mimetype": "text/x-python",
   "name": "python",
   "nbconvert_exporter": "python",
   "pygments_lexer": "ipython3",
   "version": "3.12.2"
  }
 },
 "nbformat": 4,
 "nbformat_minor": 5
}
